{
 "cells": [
  {
   "cell_type": "markdown",
   "metadata": {},
   "source": [
    "# Phyiscs Problems - Lectures 22 & 23 - Homework 10\n",
    "\n",
    "FALL 2024\n"
   ]
  },
  {
   "cell_type": "markdown",
   "metadata": {},
   "source": [
    "### 1) Altitude of a satellite\n",
    "\n",
    "A satellite is to be launched into a circular orbit around the Earth so that it orbits the planet once every T seconds.\n",
    "\n",
    "The altitude h above the Earth’s surface that the satellite must have is:\n",
    "\n",
    "$$h = \\left( \\frac{G M T^2}{4\\pi^2} \\right)^{1/3} - R$$\n",
    "\n",
    "where $G = 6.67 \\times 10^{-11}$ m$^3$ kg$^{-1}$ s$^{-2}$\n",
    "is Newton's gravitational constant, $M = 5.97 \\times 10^{24}$ kg is the mass of the Earth, and $R = 6371$ km is its radius.\n",
    "\n",
    "#### Write a function that asks the user to enter the desired value of T and then calculates and prints out the correct altitude in meters.\n"
   ]
  },
  {
   "cell_type": "code",
   "execution_count": 2,
   "metadata": {},
   "outputs": [
    {
     "name": "stdout",
     "output_type": "stream",
     "text": [
      "Input value for T: 10\n",
      "455066.9468896797 meters\n"
     ]
    }
   ],
   "source": [
    "import math\n",
    "\n",
    "def altitude():\n",
    "   \n",
    "    #define constants:\n",
    "\n",
    "    T = int(input(\"Input value for T: \"))\n",
    "    \n",
    "    G = 6.67*(10**-11)\n",
    "    M = 5.97*(10**24)\n",
    "    R = 6371\n",
    "\n",
    "    #equation:\n",
    "\n",
    "    h = (((G*M*(T**2))/4*(math.pi)**2)**(1/3))-R\n",
    "    return h\n",
    "\n",
    "height = altitude()\n",
    "print(height,\"meters\")"
   ]
  },
  {
   "cell_type": "markdown",
   "metadata": {},
   "source": [
    "Use your program to calculate the altitudes of satellites that orbit the Earth once\n",
    "a day (so-called “geosynchronous” orbit), once every 90 minutes, and once every\n",
    "45 minutes. What do you conclude from the last of these calculations?\n",
    "\n",
    "\n",
    "\n"
   ]
  },
  {
   "cell_type": "code",
   "execution_count": 27,
   "metadata": {},
   "outputs": [
    {
     "name": "stdout",
     "output_type": "stream",
     "text": [
      "Input value for T1: 86400\n",
      "Input value for T2: 5400\n",
      "Input value for T3: 2700\n",
      "24 hours: Altitude = 4388551.493864342 meters ; 90 min: Altitude = 1737755.1475197398 meters ;  45 min: Altitude = 1377942.840669039 meters\n"
     ]
    }
   ],
   "source": [
    "#geosync\n",
    "def altitude1(geosync):\n",
    "   \n",
    "    #define constants:\n",
    "\n",
    "    T1 = int(input(\"Input value for T1: \")) #86400 seconds in a day\n",
    "    \n",
    "    G = 6.67*(10**-11)\n",
    "    M = 5.97*(10**24)\n",
    "    R = 6371\n",
    "\n",
    "    #equation:\n",
    "\n",
    "    h1 = (((G*M*T1)/4*(math.pi)**2)**(1/3))-R\n",
    "    return h1\n",
    "\n",
    "\n",
    "#hourhalf\n",
    "def altitude2(hourhalf):\n",
    "   \n",
    "    #define constants:\n",
    "\n",
    "    T2 = int(input(\"Input value for T2: \")) #5400 seconds in an hour and a half\n",
    "    \n",
    "    G = 6.67*(10**-11)\n",
    "    M = 5.97*(10**24)\n",
    "    R = 6371\n",
    "\n",
    "    #equation:\n",
    "\n",
    "    h2 = (((G*M*T2)/4*(math.pi)**2)**(1/3))-R\n",
    "    return h2\n",
    "\n",
    "\n",
    "#min45\n",
    "def altitude3(min45):\n",
    "   \n",
    "    #define constants:\n",
    "\n",
    "    T3 = int(input(\"Input value for T3: \")) #2700 seconds in 45 mins \n",
    "    \n",
    "    G = 6.67*(10**-11)\n",
    "    M = 5.97*(10**24)\n",
    "    R = 6371\n",
    "\n",
    "    #equation:\n",
    "\n",
    "    h3 = (((G*M*T3)/4*(math.pi)**2)**(1/3))-R\n",
    "    return h3\n",
    "\n",
    "\n",
    "print(\"24 hours: Altitude =\",altitude1(geosync),\"meters\", \"; 90 min: Altitude =\",altitude2(hourhalf),\"meters\",\n",
    "      \";  45 min: Altitude =\",altitude3(min45),\"meters\")"
   ]
  },
  {
   "cell_type": "markdown",
   "metadata": {},
   "source": [
    "Technically a geosynchronous satellite is one that orbits the Earth once persidereal\n",
    "day, which is 23.93 hours, not 24 hours. Why is this? And how much difference\n",
    "will it make to the altitude of the satellite?"
   ]
  },
  {
   "cell_type": "code",
   "execution_count": 3,
   "metadata": {},
   "outputs": [
    {
     "name": "stdout",
     "output_type": "stream",
     "text": [
      "Input value for T1: 86400\n",
      "Input value for T2: 86148\n",
      "24 hours: Altitude = 4388551.493864342 ; 90 min: Altitude = 4384274.491655205\n",
      "The difference in altitudes for a full 24 hours versus 23.93 hours is 4,277 meters. It's important to account for this difference because the Earth does not rotate every 24 hours but rather every 23.93 hours.\n"
     ]
    }
   ],
   "source": [
    "#geosync\n",
    "def altitude1():\n",
    "   \n",
    "    #define constants:\n",
    "\n",
    "    T1 = int(input(\"Input value for T1: \")) #86400 seconds in a day\n",
    "    \n",
    "    G = 6.67*(10**-11)\n",
    "    M = 5.97*(10**24)\n",
    "    R = 6371\n",
    "\n",
    "    #equation:\n",
    "\n",
    "    h1 = (((G*M*T1)/4*(math.pi)**2)**(1/3))-R\n",
    "    return h1\n",
    "\n",
    "\n",
    "#persidereal\n",
    "def altitude2():\n",
    "   \n",
    "    #define constants:\n",
    "\n",
    "    T2 = int(input(\"Input value for T2: \")) #86148 seconds in 23.93 hours\n",
    "    \n",
    "    G = 6.67*(10**-11)\n",
    "    M = 5.97*(10**24)\n",
    "    R = 6371\n",
    "\n",
    "    #equation:\n",
    "\n",
    "    h2 = (((G*M*T2)/4*(math.pi)**2)**(1/3))-R\n",
    "    return h2\n",
    "\n",
    "\n",
    "print(\"24 hours: Altitude =\",altitude1(), \"; 90 min: Altitude =\",altitude2())\n",
    "\n",
    "print(\"The difference in altitudes for a full 24 hours versus 23.93 hours is 4,277 meters. It's important to account for this difference because the Earth does not rotate every 24 hours but rather every 23.93 hours.\")"
   ]
  },
  {
   "cell_type": "markdown",
   "metadata": {},
   "source": [
    "#### Modify your code to calculate the times from 0.5 hour  to 30 days, in steps of 0.5 hours.   Then plot those data points (time vs h) with properly labled axes.  Plot orbits with height below 0 as red, and plots positive heeghts with times less than geosynchronous in blue and those longer in green."
   ]
  },
  {
   "cell_type": "code",
   "execution_count": 2,
   "metadata": {},
   "outputs": [
    {
     "data": {
      "image/png": "[encoded data removed]",
      "text/plain": [
       "<Figure size 1000x600 with 1 Axes>"
      ]
     },
     "metadata": {},
     "output_type": "display_data"
    }
   ],
   "source": [
    "import numpy as np\n",
    "import matplotlib.pyplot as plt \n",
    "import math\n",
    " \n",
    "def altitude1():\n",
    "    \n",
    "# constants\n",
    "    G = 6.67 * (10**-11)\n",
    "    M = 5.97 * (10**24)\n",
    "    R = 6371  \n",
    " \n",
    "    tpoints = np.arange(0.5, 30*24 + 0.5, 0.5)  \n",
    "    hpoints = []  \n",
    " \n",
    "    for t in tpoints:  \n",
    "        h = (((G * M * t * 3600) / (4 * (math.pi)**2))**(1/3)) - R \n",
    "        hpoints.append(h) \n",
    " \n",
    "    return tpoints, np.array(hpoints) \n",
    " \n",
    "\n",
    "tpoints, hpoints = altitude1()\n",
    " \n",
    "# Plotting\n",
    "plt.figure(figsize=(10, 6))\n",
    " \n",
    "plt.plot(tpoints[hpoints < 0], hpoints[hpoints < 0], 'ro', label='Height < 0')\n",
    " \n",
    "plt.plot(tpoints[(hpoints >= 0) & (tpoints < 24)], hpoints[(hpoints >= 0) & (tpoints < 24)], 'bo', label='Height >= 0, Time < 24h')\n",
    "plt.plot(tpoints[(hpoints >= 0) & (tpoints >= 24)], hpoints[(hpoints >= 0) & (tpoints >= 24)], 'go', label='Height >= 0, Time >= 24h')\n",
    "\n",
    "plt.xlabel(\"Time (hours)\")\n",
    "plt.ylabel(\"Height (km)\")\n",
    "plt.title(\"Height vs Time\")\n",
    "plt.legend()\n",
    "plt.grid(True) \n",
    "plt.show()  "
   ]
  },
  {
   "cell_type": "markdown",
   "metadata": {},
   "source": [
    "### 2) Special Relativity\n",
    "\n",
    "A spaceship travels from Earth in a straight line at a (relativistic)\n",
    "speed $v$ to another planet $x$ light years away. Write a program to ask\n",
    "the user for the value of $x$ and the speed $v$ as a fraction of the speed\n",
    "of light, then print out the time in years that the spaceship takes to\n",
    "reach its destination (a) in the rest frame of an observer on Earth\n",
    "and (b) as perceived by a passenger on board the ship.\n",
    "\n",
    "$$x' = \\gamma (x - vt)$$\n",
    "\n",
    "$$t' = \\gamma \\left(t - \\frac{v x}{c^2}\\right)$$\n",
    "\n",
    "$$\\gamma = \\frac{1}{\\sqrt{1 - \\frac{v^2}{c^2}}}$$\n"
   ]
  },
  {
   "cell_type": "code",
   "execution_count": 17,
   "metadata": {},
   "outputs": [
    {
     "name": "stdout",
     "output_type": "stream",
     "text": [
      "input a value x for the distance from earth to the new planet in the earth's reference frame:75\n",
      "input a value v for the speed of the ship from the earth's reference frame in terms of c:0.6\n",
      "1.25\n",
      "time in earth's reference frame 125.0 years\n",
      "time in ship's reference frame 100.0 years\n"
     ]
    }
   ],
   "source": [
    "import math\n",
    "\n",
    "distance = int(input(\"input a value x for the distance from earth to the new planet in the earth's reference frame:\"))\n",
    "v_erf = float(input(\"input a value v for the speed of the ship from the earth's reference frame in terms of c:\"))\n",
    "\n",
    "gamma = (1-((v_erf)**2))**(-1/2)\n",
    "print(gamma)\n",
    "\n",
    "t_prime = distance / v_erf\n",
    "\n",
    "proper_time = t_prime / gamma\n",
    "\n",
    "print(\"time in earth's reference frame\", t_prime, \"years\")\n",
    "print(\"time in ship's reference frame\", proper_time, \"years\")\n"
   ]
  },
  {
   "cell_type": "markdown",
   "metadata": {},
   "source": [
    "#### Use your program to calculate the answers for a planet 10 light years away with $v = 0.90c$,  $v = 0.98c$, $v = 0.999c$."
   ]
  },
  {
   "cell_type": "code",
   "execution_count": 20,
   "metadata": {},
   "outputs": [
    {
     "name": "stdout",
     "output_type": "stream",
     "text": [
      "time in earth's reference frame for trial 1: 11.11111111111111 years\n",
      "time in ship's reference frame for trial 1: 4.843221048378525 years\n",
      "time in earth's reference frame for trial 2: 10.204081632653061 years\n",
      "time in ship's reference frame for trial 2: 2.030586606340043 years\n",
      "time in earth's reference frame for trial 3: 10.01001001001001 years\n",
      "time in ship's reference frame for trial 3: 0.4475493274496097 years\n"
     ]
    }
   ],
   "source": [
    "d = 10\n",
    "v1 = 0.9\n",
    "v2 = 0.98\n",
    "v3 = 0.999\n",
    "\n",
    "\n",
    "#v1 trial\n",
    "gamma_1 = (1-((v1)**2))**(-1/2)\n",
    "\n",
    "t_prime_1 = d / v1\n",
    "\n",
    "proper_time_1 = t_prime_1 / gamma_1\n",
    "\n",
    "\n",
    "#v2 trial\n",
    "gamma_2 = (1-((v2)**2))**(-1/2)\n",
    "\n",
    "t_prime_2 = d / v2\n",
    "\n",
    "proper_time_2 = t_prime_2 / gamma_2\n",
    "\n",
    "\n",
    "#v3 trial\n",
    "gamma_3 = (1-((v3)**2))**(-1/2)\n",
    "\n",
    "t_prime_3 = d / v3\n",
    "\n",
    "proper_time_3 = t_prime_3 / gamma_3\n",
    "\n",
    "\n",
    "print(\"time in earth's reference frame for trial 1:\", t_prime_1, \"years\")\n",
    "print(\"time in ship's reference frame for trial 1:\", proper_time_1, \"years\")\n",
    "\n",
    "\n",
    "print(\"time in earth's reference frame for trial 2:\", t_prime_2, \"years\")\n",
    "print(\"time in ship's reference frame for trial 2:\", proper_time_2, \"years\")\n",
    "\n",
    "\n",
    "print(\"time in earth's reference frame for trial 3:\", t_prime_3, \"years\")\n",
    "print(\"time in ship's reference frame for trial 3:\", proper_time_3, \"years\")"
   ]
  },
  {
   "cell_type": "markdown",
   "metadata": {},
   "source": [
    "### 3) The quadratic equation\n",
    "\n",
    " Write a program that takes as input three numbers, $a$, $b$, and $c$, and prints out the two solutions to the quadratic equation $ax^2 + bx + c = 0$ using the standard\n",
    "formula:\n",
    "\n",
    "$$x = \\frac{-b \\pm \\sqrt{b^2 - 4ac}}{2a}$$\n",
    "\n",
    "Use your program to compute the solutions of $0.001x^2 + 1000x + 0.001 = 0$."
   ]
  },
  {
   "cell_type": "code",
   "execution_count": 26,
   "metadata": {},
   "outputs": [
    {
     "name": "stdout",
     "output_type": "stream",
     "text": [
      "input value of a: 0.001\n",
      "input value of b: 1000\n",
      "input value of c: 0.001\n",
      "-9.999894245993346e-07\n",
      "-999999.999999\n"
     ]
    }
   ],
   "source": [
    "import math\n",
    "\n",
    "a = float(input(\"input value of a: \"))\n",
    "b = float(input(\"input value of b: \"))\n",
    "c= float(input(\"input value of c: \"))\n",
    "\n",
    "x1 = (-b + (math.sqrt(b**2-(4*a*c))))/(2*a)\n",
    "x2 = (-b - (math.sqrt(b**2-(4*a*c))))/(2*a)\n",
    "\n",
    "print(x1)\n",
    "print(x2)"
   ]
  },
  {
   "cell_type": "markdown",
   "metadata": {},
   "source": [
    "There is another way to write the solutions to a quadratic equation. Multiplying top and bottom of the solution above by $-b \\mp \\sqrt{b^2 - 4ac}$, show that the solutions\n",
    "can also be written as:\n",
    "\n",
    "$$x = \\frac{2c}{-b \\mp \\sqrt{b^2 - 4ac}}$$\n",
    "\n",
    "Add further lines to your program to print these values in addition to the earlier ones and again use the program to solve $0.001x^2 + 1000x + 0.001 = 0$. What do you see? How do you explain it?"
   ]
  },
  {
   "cell_type": "code",
   "execution_count": 29,
   "metadata": {},
   "outputs": [
    {
     "name": "stdout",
     "output_type": "stream",
     "text": [
      "input value of a: 0.001\n",
      "input value of b: 1000\n",
      "input value of c: 0.001\n",
      "x1= -9.999894245993346e-07\n",
      "x2= -999999.999999\n",
      "x3= -1000010.5755125057\n",
      "x4= -1.000000000001e-06\n",
      "although 2a and 2c are the same value, that value over a number, d, is not the same as d over that value, which is\n",
      "why we get different values with the first quadratic formula and the secondary quadratic formula\n"
     ]
    }
   ],
   "source": [
    "import math\n",
    "\n",
    "a = float(input(\"input value of a: \"))\n",
    "b = float(input(\"input value of b: \"))\n",
    "c= float(input(\"input value of c: \"))\n",
    "\n",
    "#classic quadratic formula\n",
    "x1 = (-b + (math.sqrt(b**2-(4*a*c))))/(2*a)\n",
    "x2 = (-b - (math.sqrt(b**2-(4*a*c))))/(2*a)\n",
    "\n",
    "print(\"x1=\",x1)\n",
    "print(\"x2=\",x2)\n",
    "\n",
    "#secondary quadratic formula\n",
    "x3 = (2*c)/(-b + (math.sqrt(b**2 - (4*a*c))))\n",
    "x4 = (2*c)/(-b - (math.sqrt(b**2 - (4*a*c))))\n",
    "\n",
    "print(\"x3=\",x3)\n",
    "print(\"x4=\",x4)\n",
    "\n",
    "print(\"although 2a and 2c are the same value, that value over a number, d, is not the same as d over that value, which is\")\n",
    "print(\"why we get different values with the first quadratic formula and the secondary quadratic formula\")"
   ]
  },
  {
   "cell_type": "markdown",
   "metadata": {},
   "source": [
    "Using what you have learned, write a new program that calculates both roots of a quadratic equation accurately in all cases. \n",
    "\n",
    "__(NOTE: MANY Online quadratic equation are WRONG, so careful how you check!!!).__"
   ]
  }
 ],
 "metadata": {
  "kernelspec": {
   "display_name": "Python 3 (ipykernel)",
   "language": "python",
   "name": "python3"
  },
  "language_info": {
   "codemirror_mode": {
    "name": "ipython",
    "version": 3
   },
   "file_extension": ".py",
   "mimetype": "text/x-python",
   "name": "python",
   "nbconvert_exporter": "python",
   "pygments_lexer": "ipython3",
   "version": "3.11.5"
  }
 },
 "nbformat": 4,
 "nbformat_minor": 4
}
